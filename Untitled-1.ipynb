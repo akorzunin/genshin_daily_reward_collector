{
 "cells": [
  {
   "cell_type": "code",
   "execution_count": 2,
   "metadata": {},
   "outputs": [],
   "source": [
    "import os\n",
    "\n",
    "import sys\n",
    "import uuid\n",
    "\n",
    "\n",
    "DEFAULT_LOGGER_NAME = \"Sample Logger\"\n",
    "\n",
    "LOGGING_CONFIG = dict(\n",
    "    version=1,\n",
    "    disable_existing_loggers=True,\n",
    "    formatters={\n",
    "        'verbose': {\n",
    "            'format': '{} - %(asctime)s - %(filename)s - %(module)s - '\n",
    "                      '%(funcName)s - %(lineno)d - [%(levelname)s] - '\n",
    "                      '%(message)s'.format(uuid.uuid4())\n",
    "        }\n",
    "    },\n",
    "\n",
    "    handlers={\n",
    "        'log_file': {\n",
    "            'level': 'DEBUG',\n",
    "            'class': 'logging.StreamHandler',\n",
    "            'formatter': 'verbose',\n",
    "            'stream': sys.stdout,\n",
    "            'filename': 'logging.log'\n",
    "        }\n",
    "    },\n",
    "\n",
    "    # loggers={\n",
    "    #     DEFAULT_LOGGER_NAME: {\n",
    "    #         'handlers': ['log_file'],\n",
    "    #         'level': 'INFO',\n",
    "    #         'propagate': False\n",
    "    #     }\n",
    "    # }\n",
    ")"
   ]
  },
  {
   "cell_type": "code",
   "execution_count": 3,
   "metadata": {},
   "outputs": [],
   "source": [
    "import logging.config\n",
    "import logging.handlers\n",
    "# from config import LOGGING_CONFIG, DEFAULT_LOGGER_NAME\n",
    "\n",
    "logging.config.dictConfig(LOGGING_CONFIG)\n",
    "logger = logging.getLogger(DEFAULT_LOGGER_NAME)\n",
    "smtp_handler = logging.handlers.SMTPHandler(mailhost=('smtp.gmail.com', 587),\n",
    "                            fromaddr='akorzunin123@gmail.com',\n",
    "                            toaddrs=['akorzunin123+pylog@gmail.com'],\n",
    "                            subject='Sample Log Mail',\n",
    "                            credentials=('user','pwd'),\n",
    "                            secure=())\n",
    "smtp_handler.setLevel(logging.ERROR)\n",
    "logger.addHandler(smtp_handler)\n",
    "logger.info(\"logger configured\")"
   ]
  },
  {
   "cell_type": "code",
   "execution_count": 9,
   "metadata": {},
   "outputs": [
    {
     "data": {
      "text/plain": [
       "'\\n    A handler class which sends an SMTP email for each logging event.\\n    '"
      ]
     },
     "execution_count": 9,
     "metadata": {},
     "output_type": "execute_result"
    }
   ],
   "source": [
    "smtp_handler.__doc__"
   ]
  }
 ],
 "metadata": {
  "interpreter": {
   "hash": "698d50f44e43cc33e445a1debb6fc81ef4fb9e5b15bde08caf42bd17af266677"
  },
  "kernelspec": {
   "display_name": "Python 3.9.9 64-bit (windows store)",
   "language": "python",
   "name": "python3"
  },
  "language_info": {
   "codemirror_mode": {
    "name": "ipython",
    "version": 3
   },
   "file_extension": ".py",
   "mimetype": "text/x-python",
   "name": "python",
   "nbconvert_exporter": "python",
   "pygments_lexer": "ipython3",
   "version": "3.9.9"
  },
  "orig_nbformat": 4
 },
 "nbformat": 4,
 "nbformat_minor": 2
}
